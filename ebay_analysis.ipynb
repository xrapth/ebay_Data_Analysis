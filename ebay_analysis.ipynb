{
 "cells": [
  {
   "cell_type": "markdown",
   "metadata": {},
   "source": [
    "# Πρακτική Μηχανική Μάθηση – Εργασία 2020\n",
    " \n",
    "Ράπτη Χαρίκλεια - ΜΕ1941\n"
   ]
  },
  {
   "cell_type": "markdown",
   "metadata": {},
   "source": [
    "# Α' Ερώτημα\n"
   ]
  },
  {
   "cell_type": "markdown",
   "metadata": {},
   "source": [
    "### Εισαγωγή όλων των απαιτούμενων βιβλιοθηκών"
   ]
  },
  {
   "cell_type": "code",
   "execution_count": 20,
   "metadata": {},
   "outputs": [],
   "source": [
    "import pandas as pd  \n",
    "import numpy as np  \n",
    "import matplotlib.pyplot as plt  \n",
    "import seaborn as sns\n",
    "from sklearn.model_selection import train_test_split \n",
    "from sklearn.ensemble import RandomForestRegressor\n",
    "from sklearn.preprocessing import StandardScaler\n",
    "from sklearn import metrics\n",
    "from sklearn import svm\n",
    "%matplotlib inline"
   ]
  },
  {
   "cell_type": "markdown",
   "metadata": {},
   "source": [
    "### Εισάγουμε το σύνολο δεδομένων CSV χρησιμοποιώντας pandas και βλέπουμε τις 5 πρώτες εγγραφές"
   ]
  },
  {
   "cell_type": "code",
   "execution_count": 21,
   "metadata": {
    "scrolled": false
   },
   "outputs": [
    {
     "data": {
      "text/html": [
       "<div>\n",
       "<style scoped>\n",
       "    .dataframe tbody tr th:only-of-type {\n",
       "        vertical-align: middle;\n",
       "    }\n",
       "\n",
       "    .dataframe tbody tr th {\n",
       "        vertical-align: top;\n",
       "    }\n",
       "\n",
       "    .dataframe thead th {\n",
       "        text-align: right;\n",
       "    }\n",
       "</style>\n",
       "<table border=\"1\" class=\"dataframe\">\n",
       "  <thead>\n",
       "    <tr style=\"text-align: right;\">\n",
       "      <th></th>\n",
       "      <th>SellerId</th>\n",
       "      <th>SellerRating</th>\n",
       "      <th>ItemId</th>\n",
       "      <th>StartingBid</th>\n",
       "      <th>Price</th>\n",
       "      <th>NumBidders</th>\n",
       "    </tr>\n",
       "  </thead>\n",
       "  <tbody>\n",
       "    <tr>\n",
       "      <td>0</td>\n",
       "      <td>144.0</td>\n",
       "      <td>84.11</td>\n",
       "      <td>6.0</td>\n",
       "      <td>137.0</td>\n",
       "      <td>145.5</td>\n",
       "      <td>2.0</td>\n",
       "    </tr>\n",
       "    <tr>\n",
       "      <td>1</td>\n",
       "      <td>40.0</td>\n",
       "      <td>93.76</td>\n",
       "      <td>0.0</td>\n",
       "      <td>30.0</td>\n",
       "      <td>30.0</td>\n",
       "      <td>0.0</td>\n",
       "    </tr>\n",
       "    <tr>\n",
       "      <td>2</td>\n",
       "      <td>102.0</td>\n",
       "      <td>94.52</td>\n",
       "      <td>12.0</td>\n",
       "      <td>364.0</td>\n",
       "      <td>1278.0</td>\n",
       "      <td>8.0</td>\n",
       "    </tr>\n",
       "    <tr>\n",
       "      <td>3</td>\n",
       "      <td>77.0</td>\n",
       "      <td>97.41</td>\n",
       "      <td>2.0</td>\n",
       "      <td>82.0</td>\n",
       "      <td>106.5</td>\n",
       "      <td>3.0</td>\n",
       "    </tr>\n",
       "    <tr>\n",
       "      <td>4</td>\n",
       "      <td>54.0</td>\n",
       "      <td>80.32</td>\n",
       "      <td>4.0</td>\n",
       "      <td>173.0</td>\n",
       "      <td>173.0</td>\n",
       "      <td>0.0</td>\n",
       "    </tr>\n",
       "  </tbody>\n",
       "</table>\n",
       "</div>"
      ],
      "text/plain": [
       "   SellerId   SellerRating   ItemId   StartingBid   Price   NumBidders\n",
       "0     144.0          84.11      6.0         137.0   145.5          2.0\n",
       "1      40.0          93.76      0.0          30.0    30.0          0.0\n",
       "2     102.0          94.52     12.0         364.0  1278.0          8.0\n",
       "3      77.0          97.41      2.0          82.0   106.5          3.0\n",
       "4      54.0          80.32      4.0         173.0   173.0          0.0"
      ]
     },
     "execution_count": 21,
     "metadata": {},
     "output_type": "execute_result"
    }
   ],
   "source": [
    "dataset = pd.read_csv(r'C:\\Users\\xara_\\Downloads\\auction_data.csv')\n",
    "dataset.head()"
   ]
  },
  {
   "cell_type": "markdown",
   "metadata": {},
   "source": [
    "### Ελέγχουμε τον αριθμό των σειρών και στηλών στο σύνολο δεδομένων μας"
   ]
  },
  {
   "cell_type": "code",
   "execution_count": 22,
   "metadata": {},
   "outputs": [
    {
     "data": {
      "text/plain": [
       "(18842, 6)"
      ]
     },
     "execution_count": 22,
     "metadata": {},
     "output_type": "execute_result"
    }
   ],
   "source": [
    "dataset.shape"
   ]
  },
  {
   "cell_type": "markdown",
   "metadata": {},
   "source": [
    "### Ελέγχουμε αν υπάρχουν κενές τιμές (NaN) στο σύνολο δεδομένων μας"
   ]
  },
  {
   "cell_type": "code",
   "execution_count": 23,
   "metadata": {},
   "outputs": [
    {
     "data": {
      "text/plain": [
       "False"
      ]
     },
     "execution_count": 23,
     "metadata": {},
     "output_type": "execute_result"
    }
   ],
   "source": [
    "dataset.isnull().values.any()"
   ]
  },
  {
   "cell_type": "markdown",
   "metadata": {},
   "source": [
    "### Στατιστικές λεπτομέρειες του συνόλου δεδομένων μας"
   ]
  },
  {
   "cell_type": "code",
   "execution_count": 24,
   "metadata": {},
   "outputs": [
    {
     "data": {
      "text/html": [
       "<div>\n",
       "<style scoped>\n",
       "    .dataframe tbody tr th:only-of-type {\n",
       "        vertical-align: middle;\n",
       "    }\n",
       "\n",
       "    .dataframe tbody tr th {\n",
       "        vertical-align: top;\n",
       "    }\n",
       "\n",
       "    .dataframe thead th {\n",
       "        text-align: right;\n",
       "    }\n",
       "</style>\n",
       "<table border=\"1\" class=\"dataframe\">\n",
       "  <thead>\n",
       "    <tr style=\"text-align: right;\">\n",
       "      <th></th>\n",
       "      <th>SellerId</th>\n",
       "      <th>SellerRating</th>\n",
       "      <th>ItemId</th>\n",
       "      <th>StartingBid</th>\n",
       "      <th>Price</th>\n",
       "      <th>NumBidders</th>\n",
       "    </tr>\n",
       "  </thead>\n",
       "  <tbody>\n",
       "    <tr>\n",
       "      <td>count</td>\n",
       "      <td>18842.000000</td>\n",
       "      <td>18842.000000</td>\n",
       "      <td>18842.000000</td>\n",
       "      <td>18842.000000</td>\n",
       "      <td>18842.000000</td>\n",
       "      <td>18842.000000</td>\n",
       "    </tr>\n",
       "    <tr>\n",
       "      <td>mean</td>\n",
       "      <td>75.340834</td>\n",
       "      <td>90.046164</td>\n",
       "      <td>5.998779</td>\n",
       "      <td>316.835899</td>\n",
       "      <td>393.979753</td>\n",
       "      <td>2.242172</td>\n",
       "    </tr>\n",
       "    <tr>\n",
       "      <td>std</td>\n",
       "      <td>43.636179</td>\n",
       "      <td>6.009262</td>\n",
       "      <td>3.731892</td>\n",
       "      <td>350.345270</td>\n",
       "      <td>384.044470</td>\n",
       "      <td>2.016307</td>\n",
       "    </tr>\n",
       "    <tr>\n",
       "      <td>min</td>\n",
       "      <td>0.000000</td>\n",
       "      <td>80.050000</td>\n",
       "      <td>0.000000</td>\n",
       "      <td>1.000000</td>\n",
       "      <td>1.250000</td>\n",
       "      <td>0.000000</td>\n",
       "    </tr>\n",
       "    <tr>\n",
       "      <td>25%</td>\n",
       "      <td>37.000000</td>\n",
       "      <td>84.820000</td>\n",
       "      <td>3.000000</td>\n",
       "      <td>80.000000</td>\n",
       "      <td>135.500000</td>\n",
       "      <td>0.000000</td>\n",
       "    </tr>\n",
       "    <tr>\n",
       "      <td>50%</td>\n",
       "      <td>76.000000</td>\n",
       "      <td>90.460000</td>\n",
       "      <td>6.000000</td>\n",
       "      <td>181.000000</td>\n",
       "      <td>235.500000</td>\n",
       "      <td>2.000000</td>\n",
       "    </tr>\n",
       "    <tr>\n",
       "      <td>75%</td>\n",
       "      <td>113.000000</td>\n",
       "      <td>94.990000</td>\n",
       "      <td>9.000000</td>\n",
       "      <td>426.000000</td>\n",
       "      <td>568.000000</td>\n",
       "      <td>4.000000</td>\n",
       "    </tr>\n",
       "    <tr>\n",
       "      <td>max</td>\n",
       "      <td>149.000000</td>\n",
       "      <td>99.980000</td>\n",
       "      <td>12.000000</td>\n",
       "      <td>2299.000000</td>\n",
       "      <td>2299.000000</td>\n",
       "      <td>10.000000</td>\n",
       "    </tr>\n",
       "  </tbody>\n",
       "</table>\n",
       "</div>"
      ],
      "text/plain": [
       "           SellerId   SellerRating        ItemId   StartingBid         Price  \\\n",
       "count  18842.000000   18842.000000  18842.000000  18842.000000  18842.000000   \n",
       "mean      75.340834      90.046164      5.998779    316.835899    393.979753   \n",
       "std       43.636179       6.009262      3.731892    350.345270    384.044470   \n",
       "min        0.000000      80.050000      0.000000      1.000000      1.250000   \n",
       "25%       37.000000      84.820000      3.000000     80.000000    135.500000   \n",
       "50%       76.000000      90.460000      6.000000    181.000000    235.500000   \n",
       "75%      113.000000      94.990000      9.000000    426.000000    568.000000   \n",
       "max      149.000000      99.980000     12.000000   2299.000000   2299.000000   \n",
       "\n",
       "         NumBidders  \n",
       "count  18842.000000  \n",
       "mean       2.242172  \n",
       "std        2.016307  \n",
       "min        0.000000  \n",
       "25%        0.000000  \n",
       "50%        2.000000  \n",
       "75%        4.000000  \n",
       "max       10.000000  "
      ]
     },
     "execution_count": 24,
     "metadata": {},
     "output_type": "execute_result"
    }
   ],
   "source": [
    "dataset.describe()"
   ]
  },
  {
   "cell_type": "code",
   "execution_count": 25,
   "metadata": {},
   "outputs": [
    {
     "name": "stdout",
     "output_type": "stream",
     "text": [
      "['SellerId', ' SellerRating', ' ItemId', ' StartingBid', ' Price', ' NumBidders']\n"
     ]
    }
   ],
   "source": [
    "print(list(dataset.columns))"
   ]
  },
  {
   "cell_type": "code",
   "execution_count": 26,
   "metadata": {},
   "outputs": [
    {
     "data": {
      "text/plain": [
       "dtype('float64')"
      ]
     },
     "execution_count": 26,
     "metadata": {},
     "output_type": "execute_result"
    }
   ],
   "source": [
    "#dataset.head()\n",
    "dataset[' ItemId'].dtypes"
   ]
  },
  {
   "cell_type": "code",
   "execution_count": 27,
   "metadata": {},
   "outputs": [
    {
     "data": {
      "text/plain": [
       "SellerId          float64\n",
       " SellerRating     float64\n",
       " ItemId          category\n",
       " StartingBid      float64\n",
       " Price            float64\n",
       " NumBidders       float64\n",
       " SellerId        category\n",
       "dtype: object"
      ]
     },
     "execution_count": 27,
     "metadata": {},
     "output_type": "execute_result"
    }
   ],
   "source": [
    "dataset[' ItemId'] = dataset[' ItemId'].astype('category')\n",
    "dataset[' SellerId'] = dataset['SellerId'].astype('category')\n",
    "dataset.dtypes"
   ]
  },
  {
   "cell_type": "code",
   "execution_count": 29,
   "metadata": {},
   "outputs": [
    {
     "data": {
      "text/html": [
       "<div>\n",
       "<style scoped>\n",
       "    .dataframe tbody tr th:only-of-type {\n",
       "        vertical-align: middle;\n",
       "    }\n",
       "\n",
       "    .dataframe tbody tr th {\n",
       "        vertical-align: top;\n",
       "    }\n",
       "\n",
       "    .dataframe thead th {\n",
       "        text-align: right;\n",
       "    }\n",
       "</style>\n",
       "<table border=\"1\" class=\"dataframe\">\n",
       "  <thead>\n",
       "    <tr style=\"text-align: right;\">\n",
       "      <th></th>\n",
       "      <th>SellerId</th>\n",
       "      <th>SellerRating</th>\n",
       "      <th>ItemId</th>\n",
       "      <th>StartingBid</th>\n",
       "      <th>Price</th>\n",
       "      <th>NumBidders</th>\n",
       "      <th>SellerId</th>\n",
       "    </tr>\n",
       "  </thead>\n",
       "  <tbody>\n",
       "    <tr>\n",
       "      <td>0</td>\n",
       "      <td>144</td>\n",
       "      <td>84.11</td>\n",
       "      <td>6</td>\n",
       "      <td>137.0</td>\n",
       "      <td>145.5</td>\n",
       "      <td>2.0</td>\n",
       "      <td>144.0</td>\n",
       "    </tr>\n",
       "    <tr>\n",
       "      <td>1</td>\n",
       "      <td>40</td>\n",
       "      <td>93.76</td>\n",
       "      <td>0</td>\n",
       "      <td>30.0</td>\n",
       "      <td>30.0</td>\n",
       "      <td>0.0</td>\n",
       "      <td>40.0</td>\n",
       "    </tr>\n",
       "    <tr>\n",
       "      <td>2</td>\n",
       "      <td>102</td>\n",
       "      <td>94.52</td>\n",
       "      <td>12</td>\n",
       "      <td>364.0</td>\n",
       "      <td>1278.0</td>\n",
       "      <td>8.0</td>\n",
       "      <td>102.0</td>\n",
       "    </tr>\n",
       "    <tr>\n",
       "      <td>3</td>\n",
       "      <td>77</td>\n",
       "      <td>97.41</td>\n",
       "      <td>2</td>\n",
       "      <td>82.0</td>\n",
       "      <td>106.5</td>\n",
       "      <td>3.0</td>\n",
       "      <td>77.0</td>\n",
       "    </tr>\n",
       "    <tr>\n",
       "      <td>4</td>\n",
       "      <td>54</td>\n",
       "      <td>80.32</td>\n",
       "      <td>4</td>\n",
       "      <td>173.0</td>\n",
       "      <td>173.0</td>\n",
       "      <td>0.0</td>\n",
       "      <td>54.0</td>\n",
       "    </tr>\n",
       "    <tr>\n",
       "      <td>5</td>\n",
       "      <td>62</td>\n",
       "      <td>99.97</td>\n",
       "      <td>12</td>\n",
       "      <td>836.0</td>\n",
       "      <td>1146.0</td>\n",
       "      <td>4.0</td>\n",
       "      <td>62.0</td>\n",
       "    </tr>\n",
       "    <tr>\n",
       "      <td>6</td>\n",
       "      <td>12</td>\n",
       "      <td>99.01</td>\n",
       "      <td>8</td>\n",
       "      <td>207.0</td>\n",
       "      <td>599.0</td>\n",
       "      <td>4.0</td>\n",
       "      <td>12.0</td>\n",
       "    </tr>\n",
       "    <tr>\n",
       "      <td>7</td>\n",
       "      <td>62</td>\n",
       "      <td>99.97</td>\n",
       "      <td>8</td>\n",
       "      <td>348.0</td>\n",
       "      <td>529.0</td>\n",
       "      <td>3.0</td>\n",
       "      <td>62.0</td>\n",
       "    </tr>\n",
       "    <tr>\n",
       "      <td>8</td>\n",
       "      <td>116</td>\n",
       "      <td>99.26</td>\n",
       "      <td>2</td>\n",
       "      <td>18.0</td>\n",
       "      <td>100.0</td>\n",
       "      <td>7.0</td>\n",
       "      <td>116.0</td>\n",
       "    </tr>\n",
       "    <tr>\n",
       "      <td>9</td>\n",
       "      <td>144</td>\n",
       "      <td>84.11</td>\n",
       "      <td>0</td>\n",
       "      <td>8.0</td>\n",
       "      <td>24.5</td>\n",
       "      <td>4.0</td>\n",
       "      <td>144.0</td>\n",
       "    </tr>\n",
       "  </tbody>\n",
       "</table>\n",
       "</div>"
      ],
      "text/plain": [
       "   SellerId   SellerRating   ItemId   StartingBid   Price   NumBidders  \\\n",
       "0       144          84.11        6         137.0   145.5          2.0   \n",
       "1        40          93.76        0          30.0    30.0          0.0   \n",
       "2       102          94.52       12         364.0  1278.0          8.0   \n",
       "3        77          97.41        2          82.0   106.5          3.0   \n",
       "4        54          80.32        4         173.0   173.0          0.0   \n",
       "5        62          99.97       12         836.0  1146.0          4.0   \n",
       "6        12          99.01        8         207.0   599.0          4.0   \n",
       "7        62          99.97        8         348.0   529.0          3.0   \n",
       "8       116          99.26        2          18.0   100.0          7.0   \n",
       "9       144          84.11        0           8.0    24.5          4.0   \n",
       "\n",
       "   SellerId  \n",
       "0     144.0  \n",
       "1      40.0  \n",
       "2     102.0  \n",
       "3      77.0  \n",
       "4      54.0  \n",
       "5      62.0  \n",
       "6      12.0  \n",
       "7      62.0  \n",
       "8     116.0  \n",
       "9     144.0  "
      ]
     },
     "execution_count": 29,
     "metadata": {},
     "output_type": "execute_result"
    }
   ],
   "source": [
    "from sklearn.preprocessing import LabelEncoder\n",
    "from sklearn import preprocessing\n",
    "le = preprocessing.LabelEncoder()\n",
    "dataset[' ItemId'] = le.fit_transform(dataset[' ItemId'],)\n",
    "dataset['SellerId'] = le.fit_transform(dataset['SellerId'])\n",
    "dataset.head(10)\n"
   ]
  },
  {
   "cell_type": "code",
   "execution_count": 30,
   "metadata": {},
   "outputs": [
    {
     "data": {
      "text/plain": [
       "SellerId            int64\n",
       " SellerRating     float64\n",
       " ItemId             int64\n",
       " StartingBid      float64\n",
       " Price            float64\n",
       " NumBidders       float64\n",
       " SellerId        category\n",
       "dtype: object"
      ]
     },
     "execution_count": 30,
     "metadata": {},
     "output_type": "execute_result"
    }
   ],
   "source": [
    "dataset.dtypes"
   ]
  },
  {
   "cell_type": "markdown",
   "metadata": {},
   "source": [
    "### Κανονικοποίηση με χρήση της κλάσης StandardScaler\n",
    "που βρίσκεται στο module sklearn.preprocessing. Η μέθοδος fit_transform της StandardScaler υπολογίζει τον μετασχηματισμό της κανονικοποίησης (μέσες, μέγιστες, ελάχιστες τιμές στηλών) και επιστρέφει τον μετασχηματισμένο πίνακα"
   ]
  },
  {
   "cell_type": "code",
   "execution_count": 32,
   "metadata": {},
   "outputs": [
    {
     "data": {
      "text/html": [
       "<div>\n",
       "<style scoped>\n",
       "    .dataframe tbody tr th:only-of-type {\n",
       "        vertical-align: middle;\n",
       "    }\n",
       "\n",
       "    .dataframe tbody tr th {\n",
       "        vertical-align: top;\n",
       "    }\n",
       "\n",
       "    .dataframe thead th {\n",
       "        text-align: right;\n",
       "    }\n",
       "</style>\n",
       "<table border=\"1\" class=\"dataframe\">\n",
       "  <thead>\n",
       "    <tr style=\"text-align: right;\">\n",
       "      <th></th>\n",
       "      <th>SellerId</th>\n",
       "      <th>SellerRating</th>\n",
       "      <th>ItemId</th>\n",
       "      <th>StartingBid</th>\n",
       "      <th>Price</th>\n",
       "      <th>NumBidders</th>\n",
       "      <th>SellerId</th>\n",
       "    </tr>\n",
       "  </thead>\n",
       "  <tbody>\n",
       "    <tr>\n",
       "      <td>0</td>\n",
       "      <td>1.573488</td>\n",
       "      <td>-0.987862</td>\n",
       "      <td>0.000327</td>\n",
       "      <td>-0.513324</td>\n",
       "      <td>-0.647025</td>\n",
       "      <td>-0.120110</td>\n",
       "      <td>1.573488</td>\n",
       "    </tr>\n",
       "    <tr>\n",
       "      <td>1</td>\n",
       "      <td>-0.809919</td>\n",
       "      <td>0.618035</td>\n",
       "      <td>-1.607479</td>\n",
       "      <td>-0.818745</td>\n",
       "      <td>-0.947779</td>\n",
       "      <td>-1.112049</td>\n",
       "      <td>-0.809919</td>\n",
       "    </tr>\n",
       "    <tr>\n",
       "      <td>2</td>\n",
       "      <td>0.610958</td>\n",
       "      <td>0.744510</td>\n",
       "      <td>1.608133</td>\n",
       "      <td>0.134625</td>\n",
       "      <td>2.301931</td>\n",
       "      <td>2.855707</td>\n",
       "      <td>0.610958</td>\n",
       "    </tr>\n",
       "    <tr>\n",
       "      <td>3</td>\n",
       "      <td>0.038024</td>\n",
       "      <td>1.225447</td>\n",
       "      <td>-1.071544</td>\n",
       "      <td>-0.670316</td>\n",
       "      <td>-0.748578</td>\n",
       "      <td>0.375860</td>\n",
       "      <td>0.038024</td>\n",
       "    </tr>\n",
       "    <tr>\n",
       "      <td>4</td>\n",
       "      <td>-0.489076</td>\n",
       "      <td>-1.618572</td>\n",
       "      <td>-0.535608</td>\n",
       "      <td>-0.410566</td>\n",
       "      <td>-0.575417</td>\n",
       "      <td>-1.112049</td>\n",
       "      <td>-0.489076</td>\n",
       "    </tr>\n",
       "  </tbody>\n",
       "</table>\n",
       "</div>"
      ],
      "text/plain": [
       "   SellerId   SellerRating    ItemId   StartingBid     Price   NumBidders  \\\n",
       "0  1.573488      -0.987862  0.000327     -0.513324 -0.647025    -0.120110   \n",
       "1 -0.809919       0.618035 -1.607479     -0.818745 -0.947779    -1.112049   \n",
       "2  0.610958       0.744510  1.608133      0.134625  2.301931     2.855707   \n",
       "3  0.038024       1.225447 -1.071544     -0.670316 -0.748578     0.375860   \n",
       "4 -0.489076      -1.618572 -0.535608     -0.410566 -0.575417    -1.112049   \n",
       "\n",
       "    SellerId  \n",
       "0   1.573488  \n",
       "1  -0.809919  \n",
       "2   0.610958  \n",
       "3   0.038024  \n",
       "4  -0.489076  "
      ]
     },
     "execution_count": 32,
     "metadata": {},
     "output_type": "execute_result"
    }
   ],
   "source": [
    "sc = StandardScaler()\n",
    "dataset = pd.DataFrame(sc.fit_transform(dataset), columns = dataset.columns)\n",
    "dataset.head()"
   ]
  },
  {
   "cell_type": "code",
   "execution_count": 33,
   "metadata": {},
   "outputs": [
    {
     "data": {
      "text/plain": [
       "SellerId         float64\n",
       " SellerRating    float64\n",
       " ItemId          float64\n",
       " StartingBid     float64\n",
       " Price           float64\n",
       " NumBidders      float64\n",
       " SellerId        float64\n",
       "dtype: object"
      ]
     },
     "execution_count": 33,
     "metadata": {},
     "output_type": "execute_result"
    }
   ],
   "source": [
    "dataset.dtypes"
   ]
  },
  {
   "cell_type": "markdown",
   "metadata": {},
   "source": [
    "### Συσχέτιση των δεδομένων"
   ]
  },
  {
   "cell_type": "code",
   "execution_count": 15,
   "metadata": {},
   "outputs": [
    {
     "data": {
      "text/plain": [
       "<matplotlib.axes._subplots.AxesSubplot at 0x23fb40ebc48>"
      ]
     },
     "execution_count": 15,
     "metadata": {},
     "output_type": "execute_result"
    },
    {
     "data": {
      "image/png": "[encoded data removed]",
      "text/plain": [
       "<Figure size 720x720 with 2 Axes>"
      ]
     },
     "metadata": {
      "needs_background": "light"
     },
     "output_type": "display_data"
    }
   ],
   "source": [
    "correlation = dataset.corr()\n",
    "plt.figure(figsize=(10, 10))\n",
    "sns.heatmap(correlation, vmax=1, square=True, annot=True, cmap='cubehelix')"
   ]
  },
  {
   "cell_type": "markdown",
   "metadata": {},
   "source": [
    "###  Χωρίζουμε τα δεδομένα σε «χαρακτηριστικά» και «ετικέτες»\n",
    "Η μεταβλητή X περιέχει όλα τα χαρακτηριστικά  και η μεταβλητή y περιέχει ετικέτες."
   ]
  },
  {
   "cell_type": "code",
   "execution_count": 248,
   "metadata": {},
   "outputs": [],
   "source": [
    "X = dataset[[' NumBidders',' StartingBid',' SellerRating',' ItemId','SellerId' ]]\n",
    "y = dataset[' Price']"
   ]
  },
  {
   "cell_type": "markdown",
   "metadata": {},
   "source": [
    "#### Χωρίζουμε το σύνολο δεδομένων μας σε train και test\n",
    "Διαιρούμε το 80% των δεδομένων στο σύνολο εκπαίδευσης, ενώ το 20% των δεδομένων στο σύνολο δοκιμών χρησιμοποιώντας τον παρακάτω κώδικα"
   ]
  },
  {
   "cell_type": "code",
   "execution_count": 249,
   "metadata": {},
   "outputs": [],
   "source": [
    "X_train, X_test, y_train, y_test = train_test_split(X, y, test_size=0.2, random_state=0)"
   ]
  },
  {
   "cell_type": "markdown",
   "metadata": {},
   "source": [
    "### Εκπαίδευση του Αλγόριθμου Multi-Linear Regression\n",
    "Για να εκπαιδεύσουμε τον αλγόριθμο χρησιμοποιούμε τη fit()μέθοδο της LinearRegression κλάσης"
   ]
  },
  {
   "cell_type": "code",
   "execution_count": 250,
   "metadata": {},
   "outputs": [
    {
     "data": {
      "text/plain": [
       "LinearRegression(copy_X=True, fit_intercept=True, n_jobs=None, normalize=False)"
      ]
     },
     "execution_count": 250,
     "metadata": {},
     "output_type": "execute_result"
    }
   ],
   "source": [
    "from sklearn.linear_model import LinearRegression\n",
    "regressor = LinearRegression()  \n",
    "regressor.fit(X_train, y_train)"
   ]
  },
  {
   "cell_type": "markdown",
   "metadata": {},
   "source": [
    "### Βέλτιστοι συντελεστές για όλα τα χαρακτηριστικά\n",
    "\n",
    "Εδώ βλέπουμε ποιους συντελεστές έχει επιλέξει το μοντέλο.\n",
    "Το αποτέλεσμα που παίρνουμε σημαίνει ότι για μια αύξηση μονάδας στην Τιμή Εκκίνησης (StartingBid), υπάρχει μια αύξηση σχεδόν μονάδας Τιμή Κλεισίματος (Price). Μπορούμε να δούμε ότι η Βαθμολογία Πωλητή % (SellerRating)\n",
    " και το Πλήθος Συμμετεχόντων (NumBidders) έχουν πολύ μικρή επίδραση στην Τιμή Κλεισίματος."
   ]
  },
  {
   "cell_type": "code",
   "execution_count": 251,
   "metadata": {},
   "outputs": [
    {
     "data": {
      "text/html": [
       "<div>\n",
       "<style scoped>\n",
       "    .dataframe tbody tr th:only-of-type {\n",
       "        vertical-align: middle;\n",
       "    }\n",
       "\n",
       "    .dataframe tbody tr th {\n",
       "        vertical-align: top;\n",
       "    }\n",
       "\n",
       "    .dataframe thead th {\n",
       "        text-align: right;\n",
       "    }\n",
       "</style>\n",
       "<table border=\"1\" class=\"dataframe\">\n",
       "  <thead>\n",
       "    <tr style=\"text-align: right;\">\n",
       "      <th></th>\n",
       "      <th>Coefficient</th>\n",
       "    </tr>\n",
       "  </thead>\n",
       "  <tbody>\n",
       "    <tr>\n",
       "      <td>NumBidders</td>\n",
       "      <td>0.158847</td>\n",
       "    </tr>\n",
       "    <tr>\n",
       "      <td>StartingBid</td>\n",
       "      <td>0.802637</td>\n",
       "    </tr>\n",
       "    <tr>\n",
       "      <td>SellerRating</td>\n",
       "      <td>-0.002018</td>\n",
       "    </tr>\n",
       "    <tr>\n",
       "      <td>ItemId</td>\n",
       "      <td>0.233809</td>\n",
       "    </tr>\n",
       "    <tr>\n",
       "      <td>SellerId</td>\n",
       "      <td>0.000767</td>\n",
       "    </tr>\n",
       "  </tbody>\n",
       "</table>\n",
       "</div>"
      ],
      "text/plain": [
       "               Coefficient\n",
       " NumBidders       0.158847\n",
       " StartingBid      0.802637\n",
       " SellerRating    -0.002018\n",
       " ItemId           0.233809\n",
       "SellerId          0.000767"
      ]
     },
     "execution_count": 251,
     "metadata": {},
     "output_type": "execute_result"
    }
   ],
   "source": [
    "coeff_dataset = pd.DataFrame(regressor.coef_, X.columns, columns=['Coefficient'])\n",
    "coeff_dataset"
   ]
  },
  {
   "cell_type": "markdown",
   "metadata": {},
   "source": [
    "### Προβλέψεις για τα δεδομένα δοκιμής"
   ]
  },
  {
   "cell_type": "code",
   "execution_count": 252,
   "metadata": {},
   "outputs": [],
   "source": [
    "y_pred = regressor.predict(X_test)"
   ]
  },
  {
   "cell_type": "markdown",
   "metadata": {},
   "source": [
    "### Ελέγχουμε τη διαφορά μεταξύ της πραγματικής και της προβλεπόμενης τιμής"
   ]
  },
  {
   "cell_type": "code",
   "execution_count": 253,
   "metadata": {},
   "outputs": [
    {
     "data": {
      "text/html": [
       "<div>\n",
       "<style scoped>\n",
       "    .dataframe tbody tr th:only-of-type {\n",
       "        vertical-align: middle;\n",
       "    }\n",
       "\n",
       "    .dataframe tbody tr th {\n",
       "        vertical-align: top;\n",
       "    }\n",
       "\n",
       "    .dataframe thead th {\n",
       "        text-align: right;\n",
       "    }\n",
       "</style>\n",
       "<table border=\"1\" class=\"dataframe\">\n",
       "  <thead>\n",
       "    <tr style=\"text-align: right;\">\n",
       "      <th></th>\n",
       "      <th>Actual</th>\n",
       "      <th>Predicted</th>\n",
       "    </tr>\n",
       "  </thead>\n",
       "  <tbody>\n",
       "    <tr>\n",
       "      <td>4123</td>\n",
       "      <td>-0.286380</td>\n",
       "      <td>-0.213487</td>\n",
       "    </tr>\n",
       "    <tr>\n",
       "      <td>4373</td>\n",
       "      <td>2.109239</td>\n",
       "      <td>2.258846</td>\n",
       "    </tr>\n",
       "    <tr>\n",
       "      <td>651</td>\n",
       "      <td>-0.428294</td>\n",
       "      <td>-0.366565</td>\n",
       "    </tr>\n",
       "    <tr>\n",
       "      <td>15944</td>\n",
       "      <td>-0.527244</td>\n",
       "      <td>-0.248141</td>\n",
       "    </tr>\n",
       "    <tr>\n",
       "      <td>18493</td>\n",
       "      <td>-0.600154</td>\n",
       "      <td>-0.510735</td>\n",
       "    </tr>\n",
       "  </tbody>\n",
       "</table>\n",
       "</div>"
      ],
      "text/plain": [
       "         Actual  Predicted\n",
       "4123  -0.286380  -0.213487\n",
       "4373   2.109239   2.258846\n",
       "651   -0.428294  -0.366565\n",
       "15944 -0.527244  -0.248141\n",
       "18493 -0.600154  -0.510735"
      ]
     },
     "execution_count": 253,
     "metadata": {},
     "output_type": "execute_result"
    }
   ],
   "source": [
    "df = pd.DataFrame({'Actual': y_test, 'Predicted': y_pred})\n",
    "df1 = df.head()\n",
    "df1"
   ]
  },
  {
   "cell_type": "markdown",
   "metadata": {},
   "source": [
    "### Σχεδιάζουμε τη σύγκριση των Πραγματικών και Προβλεπόμενων τιμών\n",
    "Όπως μπορούμε να παρατηρήσουμε από το ραβδόγραμμα, το μοντέλο μας επέστρεψε αρκετά καλά αποτελέσματα πρόβλεψης."
   ]
  },
  {
   "cell_type": "code",
   "execution_count": 254,
   "metadata": {},
   "outputs": [
    {
     "data": {
      "image/png": "[encoded data removed]",
      "text/plain": [
       "<Figure size 720x576 with 1 Axes>"
      ]
     },
     "metadata": {
      "needs_background": "light"
     },
     "output_type": "display_data"
    }
   ],
   "source": [
    "df1.plot (kind = 'bar', figsize = (10,8)) \n",
    "plt.grid (which = 'major', linestyle = '-', linewidth = '0.5', color = 'green') \n",
    "plt.grid (which = 'minor', linestyle = ':', linewidth = '0.5', color = 'black')\n",
    "plt.show ()"
   ]
  },
  {
   "cell_type": "markdown",
   "metadata": {},
   "source": [
    "### Αξιολόγηση αλγορίθμου Multi-Linear Regression\n",
    "Το τελευταίο βήμα είναι η αξιολόγηση της απόδοσης του αλγορίθμου. Θα το κάνουμε αυτό βρίσκοντας τις τιμές για MAE , MSE και RMSE.\n",
    "Παρατηρούμε από τα αποτελέσματα οτι η τιμή της ρίζας του μέσου τετραγωνικού σφάλματος (RMSE) είναι 0.274 , επομένως έχει καλή εφαρμογή το μοντέλο μας, τα παρατηρούμενα σημεία δεδομένων βρίσκονται πολύ κοντά στις προβλεπόμενες τιμές του μοντέλου. Επιπλέον το μέσο τετραγωνικό σφάλμα (MSE) είναι 0.075 , που σημαίνει ότι ο αλγόριθμός μας ήταν πολύ ακριβής, και μπορεί να κάνει αρκετά καλές προβλέψεις."
   ]
  },
  {
   "cell_type": "code",
   "execution_count": 255,
   "metadata": {},
   "outputs": [
    {
     "name": "stdout",
     "output_type": "stream",
     "text": [
      "Mean Absolute Error: 0.17578716290745752\n",
      "Mean Squared Error: 0.0755474235970424\n",
      "Root Mean Squared Error: 0.27485891580416744\n"
     ]
    }
   ],
   "source": [
    "print('Mean Absolute Error:', metrics.mean_absolute_error(y_test, y_pred))  \n",
    "print('Mean Squared Error:', metrics.mean_squared_error(y_test, y_pred))  \n",
    "print('Root Mean Squared Error:', np.sqrt(metrics.mean_squared_error(y_test, y_pred)))"
   ]
  },
  {
   "cell_type": "markdown",
   "metadata": {},
   "source": [
    "### Εκπαίδευση του Αλγόριθμου Random_Forest_Regressor\n",
    "Η RandomForestRegressor κλάση της sklearn.ensemble βιβλιοθήκης χρησιμοποιείται για την επίλυση προβλημάτων παλινδρόμησης μέσω τυχαίων δέντρων . Η πιο σημαντική παράμετρος της RandomForestRegressor κλάσης είναι η n_estimators παράμετρος. Αυτή η παράμετρος καθορίζει τον αριθμό των δέντρων στο random forest. Θα ξεκινήσουμε για n_estimator=20να δούμε πώς αποδίδει ο αλγόριθμός μας."
   ]
  },
  {
   "cell_type": "code",
   "execution_count": 256,
   "metadata": {},
   "outputs": [],
   "source": [
    "regressor = RandomForestRegressor(n_estimators=20, random_state=0)\n",
    "regressor.fit(X_train, y_train)\n",
    "y_pred = regressor.predict(X_test)"
   ]
  },
  {
   "cell_type": "markdown",
   "metadata": {},
   "source": [
    "### Αξιολόγηση αλγορίθμου Random_Forest_Regressor\n",
    "Το τελευταίο βήμα είναι η αξιολόγηση της απόδοσης του αλγορίθμου. Θα το κάνουμε αυτό βρίσκοντας τις τιμές για MAE , MSE και RMSE.\n",
    "Παρατηρούμε από τα αποτελέσματα οτι με 20 δέντρα η τιμή της ρίζας του μέσου τετραγωνικού σφάλματος (RMSE) είναι 0.077 , επομένως έχει καλή εφαρμογή το μοντέλο μας, τα παρατηρούμενα σημεία δεδομένων βρίσκονται πολύ κοντά στις προβλεπόμενες τιμές του μοντέλου. Επιπλέον το μέσο τετραγωνικό σφάλμα (MSE) είναι 0.005 , που σημαίνει ότι ο αλγόριθμός μας ήταν ακριβής, και μπορεί να κάνει αρκετά καλές προβλέψεις."
   ]
  },
  {
   "cell_type": "code",
   "execution_count": 257,
   "metadata": {
    "scrolled": true
   },
   "outputs": [
    {
     "name": "stdout",
     "output_type": "stream",
     "text": [
      "Mean Absolute Error: 0.033015809372173285\n",
      "Mean Squared Error: 0.005991444543177985\n",
      "Root Mean Squared Error: 0.07740442198723523\n"
     ]
    }
   ],
   "source": [
    "print('Mean Absolute Error:', metrics.mean_absolute_error(y_test, y_pred))\n",
    "print('Mean Squared Error:', metrics.mean_squared_error(y_test, y_pred))\n",
    "print('Root Mean Squared Error:', np.sqrt(metrics.mean_squared_error(y_test, y_pred)))"
   ]
  },
  {
   "cell_type": "markdown",
   "metadata": {},
   "source": [
    "# Β' Ερώτημα\n"
   ]
  },
  {
   "cell_type": "markdown",
   "metadata": {},
   "source": [
    "### Εισάγουμε μία νέα στήλη \"Sold\"\n",
    "Όταν ικανοποιείται η παρακάτω συνθήκη (δηλαδή εάν έχει γίνει πώληση), μπαίνει στη στήλη \"Sold\" το 1, σε αντίθετη περίπτωση μπαίνει το 0."
   ]
  },
  {
   "cell_type": "code",
   "execution_count": 258,
   "metadata": {},
   "outputs": [],
   "source": [
    "dataset[' Sold'] = np.where((dataset[' StartingBid']!=dataset[' Price']) & (dataset[' NumBidders']>0), 1, 0)"
   ]
  },
  {
   "cell_type": "code",
   "execution_count": 259,
   "metadata": {},
   "outputs": [
    {
     "data": {
      "text/html": [
       "<div>\n",
       "<style scoped>\n",
       "    .dataframe tbody tr th:only-of-type {\n",
       "        vertical-align: middle;\n",
       "    }\n",
       "\n",
       "    .dataframe tbody tr th {\n",
       "        vertical-align: top;\n",
       "    }\n",
       "\n",
       "    .dataframe thead th {\n",
       "        text-align: right;\n",
       "    }\n",
       "</style>\n",
       "<table border=\"1\" class=\"dataframe\">\n",
       "  <thead>\n",
       "    <tr style=\"text-align: right;\">\n",
       "      <th></th>\n",
       "      <th>SellerId</th>\n",
       "      <th>SellerRating</th>\n",
       "      <th>ItemId</th>\n",
       "      <th>StartingBid</th>\n",
       "      <th>Price</th>\n",
       "      <th>NumBidders</th>\n",
       "      <th>SellerId</th>\n",
       "      <th>Sold</th>\n",
       "    </tr>\n",
       "  </thead>\n",
       "  <tbody>\n",
       "    <tr>\n",
       "      <td>0</td>\n",
       "      <td>1.573488</td>\n",
       "      <td>-0.987862</td>\n",
       "      <td>0.000327</td>\n",
       "      <td>-0.513324</td>\n",
       "      <td>-0.647025</td>\n",
       "      <td>-0.120110</td>\n",
       "      <td>1.573488</td>\n",
       "      <td>0</td>\n",
       "    </tr>\n",
       "    <tr>\n",
       "      <td>1</td>\n",
       "      <td>-0.809919</td>\n",
       "      <td>0.618035</td>\n",
       "      <td>-1.607479</td>\n",
       "      <td>-0.818745</td>\n",
       "      <td>-0.947779</td>\n",
       "      <td>-1.112049</td>\n",
       "      <td>-0.809919</td>\n",
       "      <td>0</td>\n",
       "    </tr>\n",
       "    <tr>\n",
       "      <td>2</td>\n",
       "      <td>0.610958</td>\n",
       "      <td>0.744510</td>\n",
       "      <td>1.608133</td>\n",
       "      <td>0.134625</td>\n",
       "      <td>2.301931</td>\n",
       "      <td>2.855707</td>\n",
       "      <td>0.610958</td>\n",
       "      <td>1</td>\n",
       "    </tr>\n",
       "    <tr>\n",
       "      <td>3</td>\n",
       "      <td>0.038024</td>\n",
       "      <td>1.225447</td>\n",
       "      <td>-1.071544</td>\n",
       "      <td>-0.670316</td>\n",
       "      <td>-0.748578</td>\n",
       "      <td>0.375860</td>\n",
       "      <td>0.038024</td>\n",
       "      <td>1</td>\n",
       "    </tr>\n",
       "    <tr>\n",
       "      <td>4</td>\n",
       "      <td>-0.489076</td>\n",
       "      <td>-1.618572</td>\n",
       "      <td>-0.535608</td>\n",
       "      <td>-0.410566</td>\n",
       "      <td>-0.575417</td>\n",
       "      <td>-1.112049</td>\n",
       "      <td>-0.489076</td>\n",
       "      <td>0</td>\n",
       "    </tr>\n",
       "  </tbody>\n",
       "</table>\n",
       "</div>"
      ],
      "text/plain": [
       "   SellerId   SellerRating    ItemId   StartingBid     Price   NumBidders  \\\n",
       "0  1.573488      -0.987862  0.000327     -0.513324 -0.647025    -0.120110   \n",
       "1 -0.809919       0.618035 -1.607479     -0.818745 -0.947779    -1.112049   \n",
       "2  0.610958       0.744510  1.608133      0.134625  2.301931     2.855707   \n",
       "3  0.038024       1.225447 -1.071544     -0.670316 -0.748578     0.375860   \n",
       "4 -0.489076      -1.618572 -0.535608     -0.410566 -0.575417    -1.112049   \n",
       "\n",
       "    SellerId   Sold  \n",
       "0   1.573488      0  \n",
       "1  -0.809919      0  \n",
       "2   0.610958      1  \n",
       "3   0.038024      1  \n",
       "4  -0.489076      0  "
      ]
     },
     "execution_count": 259,
     "metadata": {},
     "output_type": "execute_result"
    }
   ],
   "source": [
    "dataset.head()"
   ]
  },
  {
   "cell_type": "markdown",
   "metadata": {},
   "source": [
    "### Αφαίρεση στηλών\n",
    "Αφαιρούμε τις στήλες \"Price\" και \"NumBidders\" λόγω της συσχέτισης που μας δίνουν αλλά και λόγω του accuracy που προκύπτει παρακάτω."
   ]
  },
  {
   "cell_type": "code",
   "execution_count": 260,
   "metadata": {},
   "outputs": [],
   "source": [
    "dataset   = dataset.drop(' Price', axis =1)\n",
    "dataset   = dataset.drop(' NumBidders', axis =1)"
   ]
  },
  {
   "cell_type": "code",
   "execution_count": 261,
   "metadata": {},
   "outputs": [
    {
     "data": {
      "text/html": [
       "<div>\n",
       "<style scoped>\n",
       "    .dataframe tbody tr th:only-of-type {\n",
       "        vertical-align: middle;\n",
       "    }\n",
       "\n",
       "    .dataframe tbody tr th {\n",
       "        vertical-align: top;\n",
       "    }\n",
       "\n",
       "    .dataframe thead th {\n",
       "        text-align: right;\n",
       "    }\n",
       "</style>\n",
       "<table border=\"1\" class=\"dataframe\">\n",
       "  <thead>\n",
       "    <tr style=\"text-align: right;\">\n",
       "      <th></th>\n",
       "      <th>SellerId</th>\n",
       "      <th>SellerRating</th>\n",
       "      <th>ItemId</th>\n",
       "      <th>StartingBid</th>\n",
       "      <th>SellerId</th>\n",
       "      <th>Sold</th>\n",
       "    </tr>\n",
       "  </thead>\n",
       "  <tbody>\n",
       "    <tr>\n",
       "      <td>0</td>\n",
       "      <td>1.573488</td>\n",
       "      <td>-0.987862</td>\n",
       "      <td>0.000327</td>\n",
       "      <td>-0.513324</td>\n",
       "      <td>1.573488</td>\n",
       "      <td>0</td>\n",
       "    </tr>\n",
       "    <tr>\n",
       "      <td>1</td>\n",
       "      <td>-0.809919</td>\n",
       "      <td>0.618035</td>\n",
       "      <td>-1.607479</td>\n",
       "      <td>-0.818745</td>\n",
       "      <td>-0.809919</td>\n",
       "      <td>0</td>\n",
       "    </tr>\n",
       "    <tr>\n",
       "      <td>2</td>\n",
       "      <td>0.610958</td>\n",
       "      <td>0.744510</td>\n",
       "      <td>1.608133</td>\n",
       "      <td>0.134625</td>\n",
       "      <td>0.610958</td>\n",
       "      <td>1</td>\n",
       "    </tr>\n",
       "    <tr>\n",
       "      <td>3</td>\n",
       "      <td>0.038024</td>\n",
       "      <td>1.225447</td>\n",
       "      <td>-1.071544</td>\n",
       "      <td>-0.670316</td>\n",
       "      <td>0.038024</td>\n",
       "      <td>1</td>\n",
       "    </tr>\n",
       "    <tr>\n",
       "      <td>4</td>\n",
       "      <td>-0.489076</td>\n",
       "      <td>-1.618572</td>\n",
       "      <td>-0.535608</td>\n",
       "      <td>-0.410566</td>\n",
       "      <td>-0.489076</td>\n",
       "      <td>0</td>\n",
       "    </tr>\n",
       "  </tbody>\n",
       "</table>\n",
       "</div>"
      ],
      "text/plain": [
       "   SellerId   SellerRating    ItemId   StartingBid   SellerId   Sold\n",
       "0  1.573488      -0.987862  0.000327     -0.513324   1.573488      0\n",
       "1 -0.809919       0.618035 -1.607479     -0.818745  -0.809919      0\n",
       "2  0.610958       0.744510  1.608133      0.134625   0.610958      1\n",
       "3  0.038024       1.225447 -1.071544     -0.670316   0.038024      1\n",
       "4 -0.489076      -1.618572 -0.535608     -0.410566  -0.489076      0"
      ]
     },
     "execution_count": 261,
     "metadata": {},
     "output_type": "execute_result"
    }
   ],
   "source": [
    "dataset.head()"
   ]
  },
  {
   "cell_type": "markdown",
   "metadata": {},
   "source": [
    "###  Χωρίζουμε τα δεδομένα σε «χαρακτηριστικά» και «ετικέτες»\n",
    "Αυτή τη φορά μας ενδιαφέρει η ετικέτα \"Sold\" για να κατηγοριοποιήσουμε τα δεδομένα μας."
   ]
  },
  {
   "cell_type": "code",
   "execution_count": 262,
   "metadata": {},
   "outputs": [],
   "source": [
    "X = dataset[['SellerId',' SellerRating', ' StartingBid', ' ItemId']]\n",
    "y = dataset[' Sold']"
   ]
  },
  {
   "cell_type": "code",
   "execution_count": 263,
   "metadata": {},
   "outputs": [],
   "source": [
    "X_train, X_test, y_train, y_test = train_test_split(X, y, test_size = 0.20)"
   ]
  },
  {
   "cell_type": "markdown",
   "metadata": {},
   "source": [
    "### Εκπαίδευση του Αλγόριθμου SVM\n",
    "Επιλέγουμε SVC αλγόριθμο με πολυωνυμικό kernel 2ου βαθμού."
   ]
  },
  {
   "cell_type": "code",
   "execution_count": 264,
   "metadata": {},
   "outputs": [
    {
     "data": {
      "text/plain": [
       "SVC(C=5.0, cache_size=200, class_weight=None, coef0=10,\n",
       "    decision_function_shape='ovr', degree=2, gamma=2.0, kernel='poly',\n",
       "    max_iter=-1, probability=False, random_state=None, shrinking=True,\n",
       "    tol=0.001, verbose=False)"
      ]
     },
     "execution_count": 264,
     "metadata": {},
     "output_type": "execute_result"
    }
   ],
   "source": [
    "from sklearn.svm import SVC\n",
    "svclassifier = SVC(kernel='poly', C = 5.0, degree = 2, gamma = 2.0, coef0 = 10)\n",
    "svclassifier.fit(X_train, y_train)"
   ]
  },
  {
   "cell_type": "code",
   "execution_count": 265,
   "metadata": {},
   "outputs": [],
   "source": [
    "y_pred = svclassifier.predict(X_test)"
   ]
  },
  {
   "cell_type": "markdown",
   "metadata": {},
   "source": [
    "### Αξιολόγηση SVM αλγορίθμου\n",
    "Από τα παρακάτω αποτελέσματα παρατηρούμε οτι έχουμε accuracy (ακρίβεια) 0.716 το οποίο είναι ένα σχετικά καλό αποτέλεσμα."
   ]
  },
  {
   "cell_type": "code",
   "execution_count": 266,
   "metadata": {},
   "outputs": [
    {
     "name": "stdout",
     "output_type": "stream",
     "text": [
      "[[1597  490]\n",
      " [ 577 1105]]\n",
      "              precision    recall  f1-score   support\n",
      "\n",
      "           0       0.73      0.77      0.75      2087\n",
      "           1       0.69      0.66      0.67      1682\n",
      "\n",
      "    accuracy                           0.72      3769\n",
      "   macro avg       0.71      0.71      0.71      3769\n",
      "weighted avg       0.72      0.72      0.72      3769\n",
      "\n",
      "0.71690103475723\n"
     ]
    }
   ],
   "source": [
    "from sklearn.metrics import classification_report, confusion_matrix\n",
    "print(confusion_matrix(y_test,y_pred))\n",
    "print(classification_report(y_test,y_pred))\n",
    "print(svclassifier.score(X_test, y_test))"
   ]
  },
  {
   "cell_type": "markdown",
   "metadata": {},
   "source": [
    "### Εκπαίδευση του Αλγόριθμου KNN"
   ]
  },
  {
   "cell_type": "code",
   "execution_count": 267,
   "metadata": {},
   "outputs": [
    {
     "data": {
      "text/plain": [
       "KNeighborsClassifier(algorithm='kd_tree', leaf_size=30, metric='minkowski',\n",
       "                     metric_params=None, n_jobs=None, n_neighbors=2, p=2,\n",
       "                     weights='distance')"
      ]
     },
     "execution_count": 267,
     "metadata": {},
     "output_type": "execute_result"
    }
   ],
   "source": [
    "from sklearn.neighbors        import KNeighborsClassifier\n",
    "knn = KNeighborsClassifier(n_neighbors = 2, algorithm = 'kd_tree', p = 2, metric = 'minkowski', weights = 'distance')\n",
    "knn.fit(X_train, y_train)"
   ]
  },
  {
   "cell_type": "code",
   "execution_count": 268,
   "metadata": {},
   "outputs": [],
   "source": [
    "pred = knn.predict(X_test)"
   ]
  },
  {
   "cell_type": "markdown",
   "metadata": {},
   "source": [
    "### Αξιολόγηση ΚΝΝ αλγορίθμου\n",
    "Από τα παρακάτω αποτελέσματα παρατηρούμε οτι έχουμε accuracy (ακρίβεια) 0.801 το οποίο είναι ένα καλό αποτέλεσμα, και μάλιστα καλύτερο από του SVC αλγόριθμου."
   ]
  },
  {
   "cell_type": "code",
   "execution_count": 269,
   "metadata": {},
   "outputs": [
    {
     "name": "stdout",
     "output_type": "stream",
     "text": [
      "0.8012735473600424\n",
      "              precision    recall  f1-score   support\n",
      "\n",
      "           0       0.82      0.83      0.82      2087\n",
      "           1       0.78      0.77      0.78      1682\n",
      "\n",
      "    accuracy                           0.80      3769\n",
      "   macro avg       0.80      0.80      0.80      3769\n",
      "weighted avg       0.80      0.80      0.80      3769\n",
      "\n",
      "[[1729  358]\n",
      " [ 391 1291]]\n"
     ]
    }
   ],
   "source": [
    "from sklearn.metrics import classification_report, confusion_matrix\n",
    "print(knn.score(X_test, y_test))\n",
    "print(classification_report(y_test, pred))\n",
    "print(confusion_matrix(y_test, pred))"
   ]
  },
  {
   "cell_type": "markdown",
   "metadata": {},
   "source": [
    "\n",
    "\n",
    "# Γ' Ερώτημα\n"
   ]
  },
  {
   "cell_type": "code",
   "execution_count": 271,
   "metadata": {},
   "outputs": [
    {
     "data": {
      "text/html": [
       "<div>\n",
       "<style scoped>\n",
       "    .dataframe tbody tr th:only-of-type {\n",
       "        vertical-align: middle;\n",
       "    }\n",
       "\n",
       "    .dataframe tbody tr th {\n",
       "        vertical-align: top;\n",
       "    }\n",
       "\n",
       "    .dataframe thead th {\n",
       "        text-align: right;\n",
       "    }\n",
       "</style>\n",
       "<table border=\"1\" class=\"dataframe\">\n",
       "  <thead>\n",
       "    <tr style=\"text-align: right;\">\n",
       "      <th></th>\n",
       "      <th>SellerId</th>\n",
       "      <th>SellerRating</th>\n",
       "      <th>ItemId</th>\n",
       "      <th>StartingBid</th>\n",
       "      <th>Price</th>\n",
       "      <th>NumBidders</th>\n",
       "    </tr>\n",
       "  </thead>\n",
       "  <tbody>\n",
       "    <tr>\n",
       "      <td>0</td>\n",
       "      <td>144.0</td>\n",
       "      <td>84.11</td>\n",
       "      <td>6.0</td>\n",
       "      <td>137.0</td>\n",
       "      <td>145.5</td>\n",
       "      <td>2.0</td>\n",
       "    </tr>\n",
       "    <tr>\n",
       "      <td>1</td>\n",
       "      <td>40.0</td>\n",
       "      <td>93.76</td>\n",
       "      <td>0.0</td>\n",
       "      <td>30.0</td>\n",
       "      <td>30.0</td>\n",
       "      <td>0.0</td>\n",
       "    </tr>\n",
       "    <tr>\n",
       "      <td>2</td>\n",
       "      <td>102.0</td>\n",
       "      <td>94.52</td>\n",
       "      <td>12.0</td>\n",
       "      <td>364.0</td>\n",
       "      <td>1278.0</td>\n",
       "      <td>8.0</td>\n",
       "    </tr>\n",
       "    <tr>\n",
       "      <td>3</td>\n",
       "      <td>77.0</td>\n",
       "      <td>97.41</td>\n",
       "      <td>2.0</td>\n",
       "      <td>82.0</td>\n",
       "      <td>106.5</td>\n",
       "      <td>3.0</td>\n",
       "    </tr>\n",
       "    <tr>\n",
       "      <td>4</td>\n",
       "      <td>54.0</td>\n",
       "      <td>80.32</td>\n",
       "      <td>4.0</td>\n",
       "      <td>173.0</td>\n",
       "      <td>173.0</td>\n",
       "      <td>0.0</td>\n",
       "    </tr>\n",
       "  </tbody>\n",
       "</table>\n",
       "</div>"
      ],
      "text/plain": [
       "   SellerId   SellerRating   ItemId   StartingBid   Price   NumBidders\n",
       "0     144.0          84.11      6.0         137.0   145.5          2.0\n",
       "1      40.0          93.76      0.0          30.0    30.0          0.0\n",
       "2     102.0          94.52     12.0         364.0  1278.0          8.0\n",
       "3      77.0          97.41      2.0          82.0   106.5          3.0\n",
       "4      54.0          80.32      4.0         173.0   173.0          0.0"
      ]
     },
     "execution_count": 271,
     "metadata": {},
     "output_type": "execute_result"
    }
   ],
   "source": [
    "dataset = pd.read_csv(r'C:\\Users\\xara_\\Downloads\\auction_data.csv')\n",
    "dataset.head()"
   ]
  },
  {
   "cell_type": "code",
   "execution_count": 272,
   "metadata": {},
   "outputs": [
    {
     "data": {
      "text/html": [
       "<div>\n",
       "<style scoped>\n",
       "    .dataframe tbody tr th:only-of-type {\n",
       "        vertical-align: middle;\n",
       "    }\n",
       "\n",
       "    .dataframe tbody tr th {\n",
       "        vertical-align: top;\n",
       "    }\n",
       "\n",
       "    .dataframe thead th {\n",
       "        text-align: right;\n",
       "    }\n",
       "</style>\n",
       "<table border=\"1\" class=\"dataframe\">\n",
       "  <thead>\n",
       "    <tr style=\"text-align: right;\">\n",
       "      <th></th>\n",
       "      <th>SellerId</th>\n",
       "      <th>SellerRating</th>\n",
       "      <th>ItemId</th>\n",
       "      <th>StartingBid</th>\n",
       "      <th>Price</th>\n",
       "      <th>NumBidders</th>\n",
       "    </tr>\n",
       "  </thead>\n",
       "  <tbody>\n",
       "    <tr>\n",
       "      <td>0</td>\n",
       "      <td>1.573488</td>\n",
       "      <td>-0.987862</td>\n",
       "      <td>0.000327</td>\n",
       "      <td>-0.513324</td>\n",
       "      <td>-0.647025</td>\n",
       "      <td>-0.120110</td>\n",
       "    </tr>\n",
       "    <tr>\n",
       "      <td>1</td>\n",
       "      <td>-0.809919</td>\n",
       "      <td>0.618035</td>\n",
       "      <td>-1.607479</td>\n",
       "      <td>-0.818745</td>\n",
       "      <td>-0.947779</td>\n",
       "      <td>-1.112049</td>\n",
       "    </tr>\n",
       "    <tr>\n",
       "      <td>2</td>\n",
       "      <td>0.610958</td>\n",
       "      <td>0.744510</td>\n",
       "      <td>1.608133</td>\n",
       "      <td>0.134625</td>\n",
       "      <td>2.301931</td>\n",
       "      <td>2.855707</td>\n",
       "    </tr>\n",
       "    <tr>\n",
       "      <td>3</td>\n",
       "      <td>0.038024</td>\n",
       "      <td>1.225447</td>\n",
       "      <td>-1.071544</td>\n",
       "      <td>-0.670316</td>\n",
       "      <td>-0.748578</td>\n",
       "      <td>0.375860</td>\n",
       "    </tr>\n",
       "    <tr>\n",
       "      <td>4</td>\n",
       "      <td>-0.489076</td>\n",
       "      <td>-1.618572</td>\n",
       "      <td>-0.535608</td>\n",
       "      <td>-0.410566</td>\n",
       "      <td>-0.575417</td>\n",
       "      <td>-1.112049</td>\n",
       "    </tr>\n",
       "  </tbody>\n",
       "</table>\n",
       "</div>"
      ],
      "text/plain": [
       "   SellerId   SellerRating    ItemId   StartingBid     Price   NumBidders\n",
       "0  1.573488      -0.987862  0.000327     -0.513324 -0.647025    -0.120110\n",
       "1 -0.809919       0.618035 -1.607479     -0.818745 -0.947779    -1.112049\n",
       "2  0.610958       0.744510  1.608133      0.134625  2.301931     2.855707\n",
       "3  0.038024       1.225447 -1.071544     -0.670316 -0.748578     0.375860\n",
       "4 -0.489076      -1.618572 -0.535608     -0.410566 -0.575417    -1.112049"
      ]
     },
     "execution_count": 272,
     "metadata": {},
     "output_type": "execute_result"
    }
   ],
   "source": [
    "from sklearn.preprocessing import StandardScaler\n",
    "sc = StandardScaler()\n",
    "dataset = pd.DataFrame(sc.fit_transform(dataset), columns = dataset.columns)\n",
    "dataset.head()"
   ]
  },
  {
   "cell_type": "markdown",
   "metadata": {},
   "source": [
    "###  Χωρίζουμε τα δεδομένα σε «χαρακτηριστικά» και «ετικέτες»\n",
    "Αυτή τη φορά μας ενδιαφέρει η \"Τιμή εκκίνησης\" (StartingBid) οπότε αυτή θα είναι και η \"y\" μεταβλητή μας.\n",
    "Δεν επιλέγω τα SellerId και ItemId, γιατί χωρίς αυτά έχουμε καλύτερα αποτελέσματα."
   ]
  },
  {
   "cell_type": "code",
   "execution_count": 273,
   "metadata": {},
   "outputs": [],
   "source": [
    "X = dataset[[' NumBidders',' Price',' SellerRating']]\n",
    "y = dataset[' StartingBid']"
   ]
  },
  {
   "cell_type": "code",
   "execution_count": 274,
   "metadata": {},
   "outputs": [],
   "source": [
    "X_train, X_test, y_train, y_test = train_test_split(X, y, test_size=0.2, random_state=0)"
   ]
  },
  {
   "cell_type": "markdown",
   "metadata": {},
   "source": [
    "### Εφαρμόζουμε Random Forest & Decision Tree αλγόριθμο"
   ]
  },
  {
   "cell_type": "code",
   "execution_count": 275,
   "metadata": {},
   "outputs": [],
   "source": [
    "regressor = RandomForestRegressor(n_estimators=20, random_state=0)\n",
    "regressor.fit(X_train, y_train)\n",
    "y_pred_startRF = regressor.predict(X_test)"
   ]
  },
  {
   "cell_type": "code",
   "execution_count": 276,
   "metadata": {},
   "outputs": [],
   "source": [
    "from sklearn.tree import DecisionTreeRegressor \n",
    "regressor = DecisionTreeRegressor(random_state = 0)  \n",
    "regressor.fit(X_train, y_train) \n",
    "y_pred_startDT = regressor.predict(X_test)"
   ]
  },
  {
   "cell_type": "markdown",
   "metadata": {},
   "source": [
    "### Εφαρμόζω ξανά Random Forest Regressor & Decision Tree, αυτή τη φορά για να προβλέψω την τελική τιμή (Price)\n",
    "Δεν επιλέγω πάλι τα SellerId και ItemId, γιατί χωρίς αυτά έχουμε καλύτερα αποτελέσματα."
   ]
  },
  {
   "cell_type": "code",
   "execution_count": 277,
   "metadata": {},
   "outputs": [],
   "source": [
    "X = dataset[[' NumBidders',' SellerRating',' StartingBid']]\n",
    "y = dataset[' Price']"
   ]
  },
  {
   "cell_type": "code",
   "execution_count": 278,
   "metadata": {},
   "outputs": [],
   "source": [
    "X_train, X_test, y_train, y_test = train_test_split(X, y, test_size=0.2, random_state=0)"
   ]
  },
  {
   "cell_type": "code",
   "execution_count": 279,
   "metadata": {},
   "outputs": [],
   "source": [
    "regressor = RandomForestRegressor(n_estimators=20, random_state=0)\n",
    "regressor.fit(X_train, y_train)\n",
    "y_pred_priceRF = regressor.predict(X_test)"
   ]
  },
  {
   "cell_type": "code",
   "execution_count": 280,
   "metadata": {},
   "outputs": [],
   "source": [
    "from sklearn.tree import DecisionTreeRegressor \n",
    "regressor = DecisionTreeRegressor(random_state = 0)  \n",
    "regressor.fit(X_train, y_train) \n",
    "y_pred_priceDT = regressor.predict(X_test)"
   ]
  },
  {
   "cell_type": "code",
   "execution_count": 281,
   "metadata": {},
   "outputs": [
    {
     "data": {
      "text/plain": [
       "0.30352700180641673"
      ]
     },
     "execution_count": 281,
     "metadata": {},
     "output_type": "execute_result"
    }
   ],
   "source": [
    "expected_valueRF = sum((y_pred_priceRF - y_pred_startRF) / y_pred_startRF) / len(y_pred_priceRF)\n",
    "expected_valueRF"
   ]
  },
  {
   "cell_type": "code",
   "execution_count": 282,
   "metadata": {},
   "outputs": [
    {
     "data": {
      "text/plain": [
       "0.20548373342120044"
      ]
     },
     "execution_count": 282,
     "metadata": {},
     "output_type": "execute_result"
    }
   ],
   "source": [
    "expected_valueDT = sum((y_pred_priceDT - y_pred_startDT) / y_pred_startDT) / len(y_pred_priceDT)\n",
    "expected_valueDT"
   ]
  },
  {
   "cell_type": "markdown",
   "metadata": {},
   "source": [
    "#### O Random forest αλγόριθμος επέστρεψε καλύτερο ποσοστό κέρδους 30.3% σε σχέση με το Decision Tree που επέστρεψε 20.5%"
   ]
  },
  {
   "cell_type": "code",
   "execution_count": null,
   "metadata": {},
   "outputs": [],
   "source": []
  }
 ],
 "metadata": {
  "kernelspec": {
   "display_name": "Python 3",
   "language": "python",
   "name": "python3"
  },
  "language_info": {
   "codemirror_mode": {
    "name": "ipython",
    "version": 3
   },
   "file_extension": ".py",
   "mimetype": "text/x-python",
   "name": "python",
   "nbconvert_exporter": "python",
   "pygments_lexer": "ipython3",
   "version": "3.7.4"
  }
 },
 "nbformat": 4,
 "nbformat_minor": 2
}
